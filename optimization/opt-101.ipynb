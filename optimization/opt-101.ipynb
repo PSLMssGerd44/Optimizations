{
 "cells": [
  {
   "cell_type": "code",
   "execution_count": 2,
   "metadata": {},
   "outputs": [],
   "source": [
    "import pyomo.environ as pyo"
   ]
  },
  {
   "attachments": {},
   "cell_type": "markdown",
   "metadata": {},
   "source": [
    "Problema de la dieta: Saber cómo alimentar a los soldados de manera que pudieran tener la cantidad de nutrientes necesarios en las comidas, logrando menor costo posible."
   ]
  },
  {
   "attachments": {},
   "cell_type": "markdown",
   "metadata": {},
   "source": [
    "## Set"
   ]
  },
  {
   "attachments": {},
   "cell_type": "markdown",
   "metadata": {},
   "source": [
    "$F$ = Set of foods\n",
    "\n",
    "$N$ = Set of nutrients"
   ]
  },
  {
   "attachments": {},
   "cell_type": "markdown",
   "metadata": {},
   "source": [
    "## Variables"
   ]
  },
  {
   "attachments": {},
   "cell_type": "markdown",
   "metadata": {},
   "source": [
    "$x_{f}$ = Number of serving of foof $f$"
   ]
  },
  {
   "attachments": {},
   "cell_type": "markdown",
   "metadata": {},
   "source": [
    "## Parameters"
   ]
  },
  {
   "attachments": {},
   "cell_type": "markdown",
   "metadata": {},
   "source": [
    "$c_{f}$ = Cost per serving of food $f$, $\\forall f \\in F$\n",
    "\n",
    "$a_{f,n}$ = Amount of nutrients $n$ in food $f$, $\\forall f \\in F, n \\in N $ \n",
    "\n",
    "$Nmin_{n}$ = Minimum level of nutrient $n$, $\\forall n \\in N$\n",
    "\n",
    "$Nmax_{n}$ = Maximum level of nutrient $n$, $\\forall n \\in N$\n",
    "\n",
    "$V_{f}$ = The volume per serving of food $f$, $\\forall f \\in F$\n",
    "\n",
    "$Vmax$ = Maximum volume of food consumed"
   ]
  },
  {
   "attachments": {},
   "cell_type": "markdown",
   "metadata": {},
   "source": [
    "## Objective"
   ]
  },
  {
   "attachments": {},
   "cell_type": "markdown",
   "metadata": {},
   "source": [
    "Minimize the total cost of foods\n",
    "\n",
    "$$\\text{min} \\sum c_f x_f$$"
   ]
  },
  {
   "attachments": {},
   "cell_type": "markdown",
   "metadata": {},
   "source": [
    "## Constraints"
   ]
  },
  {
   "attachments": {},
   "cell_type": "markdown",
   "metadata": {},
   "source": [
    "1. Limit nutrient consuption for each nutrient\n",
    "\n",
    "$$ Nmin\\leq \\sum a_{f,n} \\cdot x_f \\leq Nmax_{n} , \\forall n \\in N$$"
   ]
  },
  {
   "attachments": {},
   "cell_type": "markdown",
   "metadata": {},
   "source": [
    "2. Limit the volume of food consumed\n",
    "\n",
    "$$ \\sum x_f \\cdot V_f \\leq Vmax, \\forall f \\in F$$"
   ]
  },
  {
   "attachments": {},
   "cell_type": "markdown",
   "metadata": {},
   "source": [
    "3. Consumption lower bound\n",
    "\n",
    "$$ x_f \\geq 0$$"
   ]
  },
  {
   "attachments": {},
   "cell_type": "markdown",
   "metadata": {},
   "source": []
  },
  {
   "attachments": {},
   "cell_type": "markdown",
   "metadata": {},
   "source": [
    "# Pyomo modelling"
   ]
  },
  {
   "cell_type": "code",
   "execution_count": 131,
   "metadata": {},
   "outputs": [],
   "source": [
    "import pyomo.environ as pyo"
   ]
  },
  {
   "cell_type": "code",
   "execution_count": 132,
   "metadata": {},
   "outputs": [],
   "source": [
    "model = pyo.ConcreteModel(name=\"Diet problem\", doc=\"Diet problem\")"
   ]
  },
  {
   "cell_type": "code",
   "execution_count": 133,
   "metadata": {},
   "outputs": [],
   "source": [
    "FOODS = {\"Cheeseburger\", \"Fries\", \"Coke\"}\n",
    "NUTRIENTS = {\"Calories\", \"Carbs\", \"Proteins\", \"Sugars\"}"
   ]
  },
  {
   "cell_type": "code",
   "execution_count": 134,
   "metadata": {},
   "outputs": [
    {
     "name": "stdout",
     "output_type": "stream",
     "text": [
      "WARNING: Initializing ordered Set F with a fundamentally unordered data source\n",
      "(type: set).  This WILL potentially lead to nondeterministic behavior in Pyomo\n",
      "WARNING: Initializing ordered Set N with a fundamentally unordered data source\n",
      "(type: set).  This WILL potentially lead to nondeterministic behavior in Pyomo\n"
     ]
    }
   ],
   "source": [
    "model.F = pyo.Set(initialize=FOODS, doc = \"Food set\")\n",
    "model.N = pyo.Set(initialize=NUTRIENTS, doc = \"Nutrients set\")"
   ]
  },
  {
   "cell_type": "code",
   "execution_count": 135,
   "metadata": {},
   "outputs": [],
   "source": [
    "cf = {\n",
    "    \"Cheeseburger\": 1.84,\n",
    "    \"Fries\":0.67,\n",
    "    \"Coke\":1,\n",
    "}\n",
    "\n",
    "afn = {\n",
    "    (\"Cheeseburger\", \"Calories\"): 510,\n",
    "    (\"Cheeseburger\", \"Carbs\"): 34,\n",
    "    (\"Cheeseburger\", \"Proteins\"): 28,\n",
    "    (\"Cheeseburger\", \"Sugars\"): 5,\n",
    "    (\"Fries\", \"Calories\"): 220,\n",
    "    (\"Fries\", \"Carbs\"): 26,\n",
    "    (\"Fries\", \"Proteins\"): 3,\n",
    "    (\"Fries\", \"Sugars\"): 2,\n",
    "    (\"Coke\", \"Calories\"): 120,\n",
    "    (\"Coke\", \"Carbs\"): 10,\n",
    "    (\"Coke\", \"Proteins\"): 1,\n",
    "    (\"Coke\", \"Sugars\"): 15,\n",
    "}\n",
    "\n",
    "Nminn = {\n",
    "    \"Calories\":2000,\n",
    "    \"Carbs\":120,\n",
    "    \"Proteins\":50,\n",
    "    \"Sugars\":44,\n",
    "}\n",
    "\n",
    "Nmaxn = {\n",
    "    \"Calories\":1E10,\n",
    "    \"Carbs\":1E10,\n",
    "    \"Proteins\":1E10,\n",
    "    \"Sugars\":1E10,\n",
    "}\n",
    "\n",
    "Vmax = 70\n",
    "\n",
    "\n",
    "Vf = {\n",
    "    \"Cheeseburger\":5, \n",
    "    \"Fries\":5, \n",
    "    \"Coke\":5,\n",
    "}\n",
    "\n",
    "\n",
    "model.cf= pyo.Param(model.F, within=pyo.NonNegativeReals, initialize=cf, doc=\"cost per serving\")\n",
    "model.afn = pyo.Param(model.F, model.N, initialize=afn)\n",
    "model.Nminn = pyo.Param(model.N, initialize=Nminn, doc=\"Minimum nutrients per serving\")\n",
    "model.Nmaxn = pyo.Param(model.N, initialize=Nmaxn, doc=\"Maximun nutrients per serving\")\n",
    "model.Vmax = pyo.Param(initialize=Vmax)\n",
    "model.Vf = pyo.Param(model.F, initialize=Vf, doc=\"Volume consumption per saving\")"
   ]
  },
  {
   "cell_type": "code",
   "execution_count": 136,
   "metadata": {},
   "outputs": [],
   "source": [
    "model.xf = pyo.Var(model.F, domain=pyo.NonNegativeReals, doc=\"Amount of food serving\")"
   ]
  },
  {
   "cell_type": "code",
   "execution_count": 137,
   "metadata": {},
   "outputs": [],
   "source": [
    "#objective \n",
    "\n",
    "def cost_function(model):\n",
    "    return sum( model.cf[f]*model.xf[f] for f in model.F)\n",
    "\n",
    "model.objective = pyo.Objective(rule=cost_function, sense=pyo.minimize)"
   ]
  },
  {
   "cell_type": "code",
   "execution_count": 138,
   "metadata": {},
   "outputs": [],
   "source": [
    "#Constraints\n",
    "# 1. Nutrient limits\n",
    "def nutrient_limit_min(model, n):\n",
    "   return model.Nminn[n] <= sum(model.afn[f,n]*model.xf[f] for f in model.F)\n",
    "\n",
    "def nutrient_limit_max(model, n):\n",
    "   return sum(model.afn[f,n]*model.xf[f] for f in model.F) <= model.Nmaxn[n]\n",
    "\n",
    "\n",
    "model.nutrient_constraint_min = pyo.Constraint(model.N, rule=nutrient_limit_min, doc=\"nutrient limit constraint min\")\n",
    "model.nutrient_constraint_max = pyo.Constraint(model.N, rule=nutrient_limit_max, doc=\"nutrient limit constraint max\")\n",
    "\n"
   ]
  },
  {
   "cell_type": "code",
   "execution_count": 139,
   "metadata": {},
   "outputs": [],
   "source": [
    "# 2. Volume maximum\n",
    "def max_rule(model):\n",
    "    return sum(model.xf[f]*model.Vf[f] for f in model.F) <= model.Vmax\n",
    "\n",
    "model.volume_contraint= pyo.Constraint(rule=max_rule, doc=\"volume constraint\" )"
   ]
  },
  {
   "attachments": {},
   "cell_type": "markdown",
   "metadata": {},
   "source": [
    "## Solve the model"
   ]
  },
  {
   "cell_type": "code",
   "execution_count": 140,
   "metadata": {},
   "outputs": [],
   "source": [
    "solver = pyo.SolverFactory(\"appsi_highs\")"
   ]
  },
  {
   "cell_type": "code",
   "execution_count": 141,
   "metadata": {},
   "outputs": [
    {
     "name": "stdout",
     "output_type": "stream",
     "text": [
      "Running HiGHS 1.5.3 [date: 2023-05-16, git hash: 594fa5a9d]\n",
      "Copyright (c) 2023 HiGHS under MIT licence terms\n",
      "WARNING: No semi-integer/integer variables in model with non-empty integrality\n",
      "Presolving model\n",
      "9 rows, 3 cols, 27 nonzeros\n",
      "5 rows, 3 cols, 15 nonzeros\n",
      "Presolve : Reductions: rows 5(-4); columns 3(-0); elements 15(-12)\n",
      "Solving the presolved LP\n",
      "Using EKK dual simplex solver - serial\n",
      "  Iteration        Objective     Infeasibilities num(sum)\n",
      "          0     0.0000000000e+00 Pr: 4(533) 0s\n",
      "          3     7.5755065943e+00 Pr: 0(0) 0s\n",
      "Solving the original LP from the solution after postsolve\n",
      "Model   status      : Optimal\n",
      "Simplex   iterations: 3\n",
      "Objective value     :  7.5755065943e+00\n",
      "HiGHS run time      :          0.00\n"
     ]
    },
    {
     "data": {
      "text/plain": [
       "{'Problem': [{'Lower bound': 7.5755065942591155, 'Upper bound': 7.5755065942591155, 'Number of objectives': 1, 'Number of constraints': 0, 'Number of variables': 0, 'Sense': 1}], 'Solver': [{'Status': 'ok', 'Termination condition': 'optimal', 'Termination message': 'TerminationCondition.optimal'}], 'Solution': [OrderedDict([('number of solutions', 0), ('number of solutions displayed', 0)])]}"
      ]
     },
     "execution_count": 141,
     "metadata": {},
     "output_type": "execute_result"
    }
   ],
   "source": [
    "solver.solve(model, tee=True)"
   ]
  },
  {
   "cell_type": "code",
   "execution_count": 142,
   "metadata": {},
   "outputs": [
    {
     "data": {
      "text/plain": [
       "7.5755065942591155"
      ]
     },
     "execution_count": 142,
     "metadata": {},
     "output_type": "execute_result"
    }
   ],
   "source": [
    "model.objective.expr()"
   ]
  },
  {
   "cell_type": "code",
   "execution_count": 144,
   "metadata": {},
   "outputs": [
    {
     "name": "stdout",
     "output_type": "stream",
     "text": [
      "xf : Amount of food serving\n",
      "    Size=3, Index=F\n",
      "    Key          : Lower : Value              : Upper : Fixed : Stale : Domain\n",
      "    Cheeseburger :     0 : 1.1351435221101631 :  None : False : False : NonNegativeReals\n",
      "            Coke :     0 : 1.8265321955003884 :  None : False : False : NonNegativeReals\n",
      "           Fries :     0 :  5.463149728471682 :  None : False : False : NonNegativeReals\n"
     ]
    }
   ],
   "source": [
    "model.xf.display()"
   ]
  },
  {
   "cell_type": "code",
   "execution_count": 145,
   "metadata": {},
   "outputs": [
    {
     "name": "stdout",
     "output_type": "stream",
     "text": [
      "nutrient_constraint_min : Size=4\n",
      "    Key      : Lower  : Body               : Upper\n",
      "    Calories : 2000.0 :             2000.0 :  None\n",
      "       Carbs :  120.0 : 198.90209464701314 :  None\n",
      "    Proteins :   50.0 :               50.0 :  None\n",
      "      Sugars :   44.0 :  44.00000000000001 :  None\n"
     ]
    }
   ],
   "source": [
    "model.nutrient_constraint_min.display()"
   ]
  },
  {
   "cell_type": "code",
   "execution_count": 146,
   "metadata": {},
   "outputs": [
    {
     "name": "stdout",
     "output_type": "stream",
     "text": [
      "nutrient_constraint_max : Size=4\n",
      "    Key      : Lower : Body               : Upper\n",
      "    Calories :  None :             2000.0 : 10000000000.0\n",
      "       Carbs :  None : 198.90209464701314 : 10000000000.0\n",
      "    Proteins :  None :               50.0 : 10000000000.0\n",
      "      Sugars :  None :  44.00000000000001 : 10000000000.0\n"
     ]
    }
   ],
   "source": [
    "model.nutrient_constraint_max.display()"
   ]
  },
  {
   "cell_type": "code",
   "execution_count": 61,
   "metadata": {},
   "outputs": [
    {
     "name": "stdout",
     "output_type": "stream",
     "text": [
      "Diet problem\n",
      "\n",
      "    3 Set Declarations\n",
      "        F : Food set\n",
      "            Size=1, Index=None, Ordered=Insertion\n",
      "            Key  : Dimen : Domain : Size : Members\n",
      "            None :     1 :    Any :    3 : {'Cheeseburger', 'Fries', 'Coke'}\n",
      "        N : Nutrients set\n",
      "            Size=1, Index=None, Ordered=Insertion\n",
      "            Key  : Dimen : Domain : Size : Members\n",
      "            None :     1 :    Any :    4 : {'Carbs', 'Sugars', 'Calories', 'Proteins'}\n",
      "        afn_index : Size=1, Index=None, Ordered=True\n",
      "            Key  : Dimen : Domain : Size : Members\n",
      "            None :     2 :    F*N :   12 : {('Cheeseburger', 'Carbs'), ('Cheeseburger', 'Sugars'), ('Cheeseburger', 'Calories'), ('Cheeseburger', 'Proteins'), ('Fries', 'Carbs'), ('Fries', 'Sugars'), ('Fries', 'Calories'), ('Fries', 'Proteins'), ('Coke', 'Carbs'), ('Coke', 'Sugars'), ('Coke', 'Calories'), ('Coke', 'Proteins')}\n",
      "\n",
      "    6 Param Declarations\n",
      "        Nmaxn : Maximun nutrients per serving\n",
      "            Size=4, Index=N, Domain=Any, Default=None, Mutable=False\n",
      "            Key      : Value\n",
      "            Calories : 1000000.0\n",
      "               Carbs : 1000000.0\n",
      "            Proteins : 1000000.0\n",
      "              Sugars :        10\n",
      "        Nminn : Minimum nutrients per serving\n",
      "            Size=4, Index=N, Domain=Any, Default=None, Mutable=False\n",
      "            Key      : Value\n",
      "            Calories :    50\n",
      "               Carbs :   100\n",
      "            Proteins :    50\n",
      "              Sugars :     4\n",
      "        Vf : Volume consumption per saving\n",
      "            Size=0, Index=F, Domain=Any, Default=None, Mutable=False\n",
      "            Key : Value\n",
      "        Vmax : Size=1, Index=None, Domain=Any, Default=None, Mutable=False\n",
      "            Key  : Value\n",
      "            None :    70\n",
      "        afn : Size=12, Index=afn_index, Domain=Any, Default=None, Mutable=False\n",
      "            Key                          : Value\n",
      "            ('Cheeseburger', 'Calories') :   510\n",
      "               ('Cheeseburger', 'Carbs') :    34\n",
      "            ('Cheeseburger', 'Proteins') :    28\n",
      "              ('Cheeseburger', 'Sugars') :     5\n",
      "                    ('Coke', 'Calories') :   120\n",
      "                       ('Coke', 'Carbs') :    10\n",
      "                    ('Coke', 'Proteins') :     1\n",
      "                      ('Coke', 'Sugars') :    15\n",
      "                   ('Fries', 'Calories') :   220\n",
      "                      ('Fries', 'Carbs') :    26\n",
      "                   ('Fries', 'Proteins') :     3\n",
      "                     ('Fries', 'Sugars') :     2\n",
      "        cf : cost per serving\n",
      "            Size=3, Index=F, Domain=NonNegativeReals, Default=None, Mutable=False\n",
      "            Key          : Value\n",
      "            Cheeseburger :  1.84\n",
      "                    Coke :     1\n",
      "                   Fries :  0.67\n",
      "\n",
      "    1 Var Declarations\n",
      "        xf : Amount of food serving\n",
      "            Size=1, Index=None\n",
      "            Key  : Lower : Value : Upper : Fixed : Stale : Domain\n",
      "            None :     0 :  None :  None : False :  True : NonNegativeReals\n",
      "\n",
      "    10 Declarations: F N cf afn_index afn Nminn Nmaxn Vmax Vf xf\n"
     ]
    }
   ],
   "source": [
    "model.pprint()"
   ]
  },
  {
   "cell_type": "code",
   "execution_count": null,
   "metadata": {},
   "outputs": [],
   "source": []
  }
 ],
 "metadata": {
  "kernelspec": {
   "display_name": "optimization-aFapA5gT",
   "language": "python",
   "name": "python3"
  },
  "language_info": {
   "codemirror_mode": {
    "name": "ipython",
    "version": 3
   },
   "file_extension": ".py",
   "mimetype": "text/x-python",
   "name": "python",
   "nbconvert_exporter": "python",
   "pygments_lexer": "ipython3",
   "version": "3.11.2"
  },
  "orig_nbformat": 4
 },
 "nbformat": 4,
 "nbformat_minor": 2
}
